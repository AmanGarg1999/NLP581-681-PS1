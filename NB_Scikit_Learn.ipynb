{
 "cells": [
  {
   "cell_type": "code",
   "execution_count": 1,
   "metadata": {},
   "outputs": [],
   "source": [
    "import numpy as np \n",
    "import pandas as pd\n",
    "import csv\n",
    "import matplotlib.pyplot as plt\n",
    "import seaborn as sns\n",
    "from PIL import Image\n",
    "from wordcloud import WordCloud, STOPWORDS, ImageColorGenerator\n",
    "import pprint as pp\n",
    "from gensim.parsing.preprocessing import STOPWORDS\n",
    "from gensim.parsing.preprocessing import remove_stopwords"
   ]
  },
  {
   "cell_type": "code",
   "execution_count": 2,
   "metadata": {},
   "outputs": [
    {
     "data": {
      "text/html": [
       "<div>\n",
       "<style scoped>\n",
       "    .dataframe tbody tr th:only-of-type {\n",
       "        vertical-align: middle;\n",
       "    }\n",
       "\n",
       "    .dataframe tbody tr th {\n",
       "        vertical-align: top;\n",
       "    }\n",
       "\n",
       "    .dataframe thead th {\n",
       "        text-align: right;\n",
       "    }\n",
       "</style>\n",
       "<table border=\"1\" class=\"dataframe\">\n",
       "  <thead>\n",
       "    <tr style=\"text-align: right;\">\n",
       "      <th></th>\n",
       "      <th>ID</th>\n",
       "      <th>TEXT</th>\n",
       "      <th>Sentiment</th>\n",
       "      <th>Topic</th>\n",
       "      <th>Genre</th>\n",
       "    </tr>\n",
       "  </thead>\n",
       "  <tbody>\n",
       "    <tr>\n",
       "      <th>0</th>\n",
       "      <td>0</td>\n",
       "      <td>This is definitely a must have if your state d...</td>\n",
       "      <td>POSITIVE</td>\n",
       "      <td>NONE</td>\n",
       "      <td>GENRE_B</td>\n",
       "    </tr>\n",
       "    <tr>\n",
       "      <th>1</th>\n",
       "      <td>1</td>\n",
       "      <td>It's a great place and I highly recommend it.</td>\n",
       "      <td>POSITIVE</td>\n",
       "      <td>NONE</td>\n",
       "      <td>GENRE_B</td>\n",
       "    </tr>\n",
       "    <tr>\n",
       "      <th>2</th>\n",
       "      <td>2</td>\n",
       "      <td>I will see the doctors, take some blood tests ...</td>\n",
       "      <td>NEUTRAL</td>\n",
       "      <td>GOING_TO_PLACES</td>\n",
       "      <td>GENRE_A</td>\n",
       "    </tr>\n",
       "    <tr>\n",
       "      <th>3</th>\n",
       "      <td>3</td>\n",
       "      <td>I can tell you about having my phone and elect...</td>\n",
       "      <td>NEGATIVE</td>\n",
       "      <td>MONEY_ISSUE</td>\n",
       "      <td>GENRE_A</td>\n",
       "    </tr>\n",
       "    <tr>\n",
       "      <th>4</th>\n",
       "      <td>4</td>\n",
       "      <td>Their steaks are 100% recommended!</td>\n",
       "      <td>POSITIVE</td>\n",
       "      <td>NONE</td>\n",
       "      <td>GENRE_B</td>\n",
       "    </tr>\n",
       "  </tbody>\n",
       "</table>\n",
       "</div>"
      ],
      "text/plain": [
       "   ID                                               TEXT Sentiment  \\\n",
       "0   0  This is definitely a must have if your state d...  POSITIVE   \n",
       "1   1      It's a great place and I highly recommend it.  POSITIVE   \n",
       "2   2  I will see the doctors, take some blood tests ...   NEUTRAL   \n",
       "3   3  I can tell you about having my phone and elect...  NEGATIVE   \n",
       "4   4                 Their steaks are 100% recommended!  POSITIVE   \n",
       "\n",
       "             Topic    Genre  \n",
       "0             NONE  GENRE_B  \n",
       "1             NONE  GENRE_B  \n",
       "2  GOING_TO_PLACES  GENRE_A  \n",
       "3      MONEY_ISSUE  GENRE_A  \n",
       "4             NONE  GENRE_B  "
      ]
     },
     "execution_count": 2,
     "metadata": {},
     "output_type": "execute_result"
    }
   ],
   "source": [
    "train_df = pd.read_csv('train.csv')\n",
    "train_df.head(5)"
   ]
  },
  {
   "cell_type": "code",
   "execution_count": 3,
   "metadata": {},
   "outputs": [],
   "source": [
    "train_df = train_df[train_df.Sentiment != 'NEUTRAL']"
   ]
  },
  {
   "cell_type": "code",
   "execution_count": 4,
   "metadata": {},
   "outputs": [],
   "source": [
    "train_df['TEXT'] = train_df['TEXT'].str.lower()"
   ]
  },
  {
   "cell_type": "code",
   "execution_count": 5,
   "metadata": {},
   "outputs": [
    {
     "data": {
      "text/html": [
       "<div>\n",
       "<style scoped>\n",
       "    .dataframe tbody tr th:only-of-type {\n",
       "        vertical-align: middle;\n",
       "    }\n",
       "\n",
       "    .dataframe tbody tr th {\n",
       "        vertical-align: top;\n",
       "    }\n",
       "\n",
       "    .dataframe thead th {\n",
       "        text-align: right;\n",
       "    }\n",
       "</style>\n",
       "<table border=\"1\" class=\"dataframe\">\n",
       "  <thead>\n",
       "    <tr style=\"text-align: right;\">\n",
       "      <th></th>\n",
       "      <th>ID</th>\n",
       "      <th>TEXT</th>\n",
       "      <th>Sentiment</th>\n",
       "      <th>Topic</th>\n",
       "      <th>Genre</th>\n",
       "    </tr>\n",
       "  </thead>\n",
       "  <tbody>\n",
       "    <tr>\n",
       "      <th>0</th>\n",
       "      <td>0</td>\n",
       "      <td>this is definitely a must have if your state d...</td>\n",
       "      <td>POSITIVE</td>\n",
       "      <td>NONE</td>\n",
       "      <td>GENRE_B</td>\n",
       "    </tr>\n",
       "    <tr>\n",
       "      <th>1</th>\n",
       "      <td>1</td>\n",
       "      <td>it's a great place and i highly recommend it.</td>\n",
       "      <td>POSITIVE</td>\n",
       "      <td>NONE</td>\n",
       "      <td>GENRE_B</td>\n",
       "    </tr>\n",
       "    <tr>\n",
       "      <th>3</th>\n",
       "      <td>3</td>\n",
       "      <td>i can tell you about having my phone and elect...</td>\n",
       "      <td>NEGATIVE</td>\n",
       "      <td>MONEY_ISSUE</td>\n",
       "      <td>GENRE_A</td>\n",
       "    </tr>\n",
       "    <tr>\n",
       "      <th>4</th>\n",
       "      <td>4</td>\n",
       "      <td>their steaks are 100% recommended!</td>\n",
       "      <td>POSITIVE</td>\n",
       "      <td>NONE</td>\n",
       "      <td>GENRE_B</td>\n",
       "    </tr>\n",
       "    <tr>\n",
       "      <th>5</th>\n",
       "      <td>5</td>\n",
       "      <td>i was billed for thousands of dollars he said,...</td>\n",
       "      <td>NEGATIVE</td>\n",
       "      <td>MONEY_ISSUE</td>\n",
       "      <td>GENRE_A</td>\n",
       "    </tr>\n",
       "  </tbody>\n",
       "</table>\n",
       "</div>"
      ],
      "text/plain": [
       "   ID                                               TEXT Sentiment  \\\n",
       "0   0  this is definitely a must have if your state d...  POSITIVE   \n",
       "1   1      it's a great place and i highly recommend it.  POSITIVE   \n",
       "3   3  i can tell you about having my phone and elect...  NEGATIVE   \n",
       "4   4                 their steaks are 100% recommended!  POSITIVE   \n",
       "5   5  i was billed for thousands of dollars he said,...  NEGATIVE   \n",
       "\n",
       "         Topic    Genre  \n",
       "0         NONE  GENRE_B  \n",
       "1         NONE  GENRE_B  \n",
       "3  MONEY_ISSUE  GENRE_A  \n",
       "4         NONE  GENRE_B  \n",
       "5  MONEY_ISSUE  GENRE_A  "
      ]
     },
     "execution_count": 5,
     "metadata": {},
     "output_type": "execute_result"
    }
   ],
   "source": [
    "train_df.head(5)"
   ]
  },
  {
   "cell_type": "code",
   "execution_count": 6,
   "metadata": {},
   "outputs": [
    {
     "data": {
      "text/html": [
       "<div>\n",
       "<style scoped>\n",
       "    .dataframe tbody tr th:only-of-type {\n",
       "        vertical-align: middle;\n",
       "    }\n",
       "\n",
       "    .dataframe tbody tr th {\n",
       "        vertical-align: top;\n",
       "    }\n",
       "\n",
       "    .dataframe thead th {\n",
       "        text-align: right;\n",
       "    }\n",
       "</style>\n",
       "<table border=\"1\" class=\"dataframe\">\n",
       "  <thead>\n",
       "    <tr style=\"text-align: right;\">\n",
       "      <th></th>\n",
       "      <th>ID</th>\n",
       "      <th>TEXT</th>\n",
       "      <th>Sentiment</th>\n",
       "      <th>Topic</th>\n",
       "      <th>Genre</th>\n",
       "    </tr>\n",
       "  </thead>\n",
       "  <tbody>\n",
       "    <tr>\n",
       "      <th>0</th>\n",
       "      <td>0</td>\n",
       "      <td>this is definitely a must have if your state d...</td>\n",
       "      <td>POSITIVE</td>\n",
       "      <td>NONE</td>\n",
       "      <td>GENRE_B</td>\n",
       "    </tr>\n",
       "    <tr>\n",
       "      <th>1</th>\n",
       "      <td>1</td>\n",
       "      <td>it's a great place and i highly recommend it.</td>\n",
       "      <td>POSITIVE</td>\n",
       "      <td>NONE</td>\n",
       "      <td>GENRE_B</td>\n",
       "    </tr>\n",
       "    <tr>\n",
       "      <th>3</th>\n",
       "      <td>3</td>\n",
       "      <td>i can tell you about having my phone and elect...</td>\n",
       "      <td>NEGATIVE</td>\n",
       "      <td>MONEY_ISSUE</td>\n",
       "      <td>GENRE_A</td>\n",
       "    </tr>\n",
       "    <tr>\n",
       "      <th>4</th>\n",
       "      <td>4</td>\n",
       "      <td>their steaks are 100% recommended!</td>\n",
       "      <td>POSITIVE</td>\n",
       "      <td>NONE</td>\n",
       "      <td>GENRE_B</td>\n",
       "    </tr>\n",
       "    <tr>\n",
       "      <th>5</th>\n",
       "      <td>5</td>\n",
       "      <td>i was billed for thousands of dollars he said,...</td>\n",
       "      <td>NEGATIVE</td>\n",
       "      <td>MONEY_ISSUE</td>\n",
       "      <td>GENRE_A</td>\n",
       "    </tr>\n",
       "    <tr>\n",
       "      <th>...</th>\n",
       "      <td>...</td>\n",
       "      <td>...</td>\n",
       "      <td>...</td>\n",
       "      <td>...</td>\n",
       "      <td>...</td>\n",
       "    </tr>\n",
       "    <tr>\n",
       "      <th>2559</th>\n",
       "      <td>2559</td>\n",
       "      <td>this is one of the better buffets that i have ...</td>\n",
       "      <td>POSITIVE</td>\n",
       "      <td>NONE</td>\n",
       "      <td>GENRE_B</td>\n",
       "    </tr>\n",
       "    <tr>\n",
       "      <th>2560</th>\n",
       "      <td>2560</td>\n",
       "      <td>there's no elegant way to say i was fired.</td>\n",
       "      <td>NEGATIVE</td>\n",
       "      <td>MONEY_ISSUE</td>\n",
       "      <td>GENRE_A</td>\n",
       "    </tr>\n",
       "    <tr>\n",
       "      <th>2561</th>\n",
       "      <td>2561</td>\n",
       "      <td>that's why we go pay our bucks for the movies,...</td>\n",
       "      <td>POSITIVE</td>\n",
       "      <td>ATTENDING_EVENT</td>\n",
       "      <td>GENRE_A</td>\n",
       "    </tr>\n",
       "    <tr>\n",
       "      <th>2562</th>\n",
       "      <td>2562</td>\n",
       "      <td>however, after finally watching this film, i r...</td>\n",
       "      <td>POSITIVE</td>\n",
       "      <td>NONE</td>\n",
       "      <td>GENRE_B</td>\n",
       "    </tr>\n",
       "    <tr>\n",
       "      <th>2563</th>\n",
       "      <td>2563</td>\n",
       "      <td>i'm pretty much on a fixed income.</td>\n",
       "      <td>NEGATIVE</td>\n",
       "      <td>MONEY_ISSUE</td>\n",
       "      <td>GENRE_A</td>\n",
       "    </tr>\n",
       "  </tbody>\n",
       "</table>\n",
       "<p>2359 rows × 5 columns</p>\n",
       "</div>"
      ],
      "text/plain": [
       "        ID                                               TEXT Sentiment  \\\n",
       "0        0  this is definitely a must have if your state d...  POSITIVE   \n",
       "1        1      it's a great place and i highly recommend it.  POSITIVE   \n",
       "3        3  i can tell you about having my phone and elect...  NEGATIVE   \n",
       "4        4                 their steaks are 100% recommended!  POSITIVE   \n",
       "5        5  i was billed for thousands of dollars he said,...  NEGATIVE   \n",
       "...    ...                                                ...       ...   \n",
       "2559  2559  this is one of the better buffets that i have ...  POSITIVE   \n",
       "2560  2560         there's no elegant way to say i was fired.  NEGATIVE   \n",
       "2561  2561  that's why we go pay our bucks for the movies,...  POSITIVE   \n",
       "2562  2562  however, after finally watching this film, i r...  POSITIVE   \n",
       "2563  2563                i'm pretty much on a fixed income.   NEGATIVE   \n",
       "\n",
       "                Topic    Genre  \n",
       "0                NONE  GENRE_B  \n",
       "1                NONE  GENRE_B  \n",
       "3         MONEY_ISSUE  GENRE_A  \n",
       "4                NONE  GENRE_B  \n",
       "5         MONEY_ISSUE  GENRE_A  \n",
       "...               ...      ...  \n",
       "2559             NONE  GENRE_B  \n",
       "2560      MONEY_ISSUE  GENRE_A  \n",
       "2561  ATTENDING_EVENT  GENRE_A  \n",
       "2562             NONE  GENRE_B  \n",
       "2563      MONEY_ISSUE  GENRE_A  \n",
       "\n",
       "[2359 rows x 5 columns]"
      ]
     },
     "execution_count": 6,
     "metadata": {},
     "output_type": "execute_result"
    }
   ],
   "source": [
    "train_df"
   ]
  },
  {
   "cell_type": "code",
   "execution_count": 7,
   "metadata": {},
   "outputs": [
    {
     "data": {
      "text/html": [
       "<div>\n",
       "<style scoped>\n",
       "    .dataframe tbody tr th:only-of-type {\n",
       "        vertical-align: middle;\n",
       "    }\n",
       "\n",
       "    .dataframe tbody tr th {\n",
       "        vertical-align: top;\n",
       "    }\n",
       "\n",
       "    .dataframe thead th {\n",
       "        text-align: right;\n",
       "    }\n",
       "</style>\n",
       "<table border=\"1\" class=\"dataframe\">\n",
       "  <thead>\n",
       "    <tr style=\"text-align: right;\">\n",
       "      <th></th>\n",
       "      <th>ID</th>\n",
       "    </tr>\n",
       "  </thead>\n",
       "  <tbody>\n",
       "    <tr>\n",
       "      <th>count</th>\n",
       "      <td>2359.000000</td>\n",
       "    </tr>\n",
       "    <tr>\n",
       "      <th>mean</th>\n",
       "      <td>1280.091564</td>\n",
       "    </tr>\n",
       "    <tr>\n",
       "      <th>std</th>\n",
       "      <td>741.128871</td>\n",
       "    </tr>\n",
       "    <tr>\n",
       "      <th>min</th>\n",
       "      <td>0.000000</td>\n",
       "    </tr>\n",
       "    <tr>\n",
       "      <th>25%</th>\n",
       "      <td>635.500000</td>\n",
       "    </tr>\n",
       "    <tr>\n",
       "      <th>50%</th>\n",
       "      <td>1276.000000</td>\n",
       "    </tr>\n",
       "    <tr>\n",
       "      <th>75%</th>\n",
       "      <td>1921.500000</td>\n",
       "    </tr>\n",
       "    <tr>\n",
       "      <th>max</th>\n",
       "      <td>2563.000000</td>\n",
       "    </tr>\n",
       "  </tbody>\n",
       "</table>\n",
       "</div>"
      ],
      "text/plain": [
       "                ID\n",
       "count  2359.000000\n",
       "mean   1280.091564\n",
       "std     741.128871\n",
       "min       0.000000\n",
       "25%     635.500000\n",
       "50%    1276.000000\n",
       "75%    1921.500000\n",
       "max    2563.000000"
      ]
     },
     "execution_count": 7,
     "metadata": {},
     "output_type": "execute_result"
    }
   ],
   "source": [
    "train_df.describe()"
   ]
  },
  {
   "cell_type": "code",
   "execution_count": 8,
   "metadata": {},
   "outputs": [
    {
     "name": "stdout",
     "output_type": "stream",
     "text": [
      "<class 'pandas.core.frame.DataFrame'>\n",
      "Int64Index: 2359 entries, 0 to 2563\n",
      "Data columns (total 5 columns):\n",
      " #   Column     Non-Null Count  Dtype \n",
      "---  ------     --------------  ----- \n",
      " 0   ID         2359 non-null   int64 \n",
      " 1   TEXT       2359 non-null   object\n",
      " 2   Sentiment  2359 non-null   object\n",
      " 3   Topic      2359 non-null   object\n",
      " 4   Genre      2359 non-null   object\n",
      "dtypes: int64(1), object(4)\n",
      "memory usage: 110.6+ KB\n"
     ]
    }
   ],
   "source": [
    "train_df.info()"
   ]
  },
  {
   "cell_type": "code",
   "execution_count": 9,
   "metadata": {},
   "outputs": [
    {
     "data": {
      "text/plain": [
       "NEGATIVE    1282\n",
       "POSITIVE    1077\n",
       "Name: Sentiment, dtype: int64"
      ]
     },
     "execution_count": 9,
     "metadata": {},
     "output_type": "execute_result"
    }
   ],
   "source": [
    "train_df['Sentiment'].value_counts()"
   ]
  },
  {
   "cell_type": "code",
   "execution_count": 10,
   "metadata": {},
   "outputs": [
    {
     "data": {
      "text/plain": [
       "<AxesSubplot:>"
      ]
     },
     "execution_count": 10,
     "metadata": {},
     "output_type": "execute_result"
    },
    {
     "data": {
      "image/png": "[encoded data removed]",
      "text/plain": [
       "<Figure size 432x288 with 1 Axes>"
      ]
     },
     "metadata": {
      "needs_background": "light"
     },
     "output_type": "display_data"
    }
   ],
   "source": [
    "train_df['Sentiment'].value_counts().plot(kind = 'bar')"
   ]
  },
  {
   "cell_type": "code",
   "execution_count": 11,
   "metadata": {},
   "outputs": [],
   "source": [
    "test_df = pd.read_csv('test.csv')"
   ]
  },
  {
   "cell_type": "code",
   "execution_count": 12,
   "metadata": {},
   "outputs": [
    {
     "data": {
      "text/html": [
       "<div>\n",
       "<style scoped>\n",
       "    .dataframe tbody tr th:only-of-type {\n",
       "        vertical-align: middle;\n",
       "    }\n",
       "\n",
       "    .dataframe tbody tr th {\n",
       "        vertical-align: top;\n",
       "    }\n",
       "\n",
       "    .dataframe thead th {\n",
       "        text-align: right;\n",
       "    }\n",
       "</style>\n",
       "<table border=\"1\" class=\"dataframe\">\n",
       "  <thead>\n",
       "    <tr style=\"text-align: right;\">\n",
       "      <th></th>\n",
       "      <th>ID</th>\n",
       "      <th>TEXT</th>\n",
       "      <th>Sentiment</th>\n",
       "      <th>Context</th>\n",
       "      <th>Genre</th>\n",
       "    </tr>\n",
       "  </thead>\n",
       "  <tbody>\n",
       "    <tr>\n",
       "      <th>0</th>\n",
       "      <td>0</td>\n",
       "      <td>The reception through this headset is excellent.</td>\n",
       "      <td>POSITIVE</td>\n",
       "      <td>NONE</td>\n",
       "      <td>GENRE_B</td>\n",
       "    </tr>\n",
       "    <tr>\n",
       "      <th>1</th>\n",
       "      <td>1</td>\n",
       "      <td>Hands down my favorite Italian restaurant!</td>\n",
       "      <td>POSITIVE</td>\n",
       "      <td>NONE</td>\n",
       "      <td>GENRE_B</td>\n",
       "    </tr>\n",
       "    <tr>\n",
       "      <th>2</th>\n",
       "      <td>2</td>\n",
       "      <td>The bathrooms are clean and the place itself i...</td>\n",
       "      <td>POSITIVE</td>\n",
       "      <td>NONE</td>\n",
       "      <td>GENRE_B</td>\n",
       "    </tr>\n",
       "    <tr>\n",
       "      <th>3</th>\n",
       "      <td>3</td>\n",
       "      <td>If you haven't gone here GO NOW!</td>\n",
       "      <td>POSITIVE</td>\n",
       "      <td>NONE</td>\n",
       "      <td>GENRE_B</td>\n",
       "    </tr>\n",
       "    <tr>\n",
       "      <th>4</th>\n",
       "      <td>4</td>\n",
       "      <td>Host staff were, for lack of a better word, BI...</td>\n",
       "      <td>NEGATIVE</td>\n",
       "      <td>NONE</td>\n",
       "      <td>GENRE_B</td>\n",
       "    </tr>\n",
       "  </tbody>\n",
       "</table>\n",
       "</div>"
      ],
      "text/plain": [
       "   ID                                               TEXT Sentiment Context  \\\n",
       "0   0   The reception through this headset is excellent.  POSITIVE    NONE   \n",
       "1   1         Hands down my favorite Italian restaurant!  POSITIVE    NONE   \n",
       "2   2  The bathrooms are clean and the place itself i...  POSITIVE    NONE   \n",
       "3   3                   If you haven't gone here GO NOW!  POSITIVE    NONE   \n",
       "4   4  Host staff were, for lack of a better word, BI...  NEGATIVE    NONE   \n",
       "\n",
       "     Genre  \n",
       "0  GENRE_B  \n",
       "1  GENRE_B  \n",
       "2  GENRE_B  \n",
       "3  GENRE_B  \n",
       "4  GENRE_B  "
      ]
     },
     "execution_count": 12,
     "metadata": {},
     "output_type": "execute_result"
    }
   ],
   "source": [
    "test_df.head(5)"
   ]
  },
  {
   "cell_type": "code",
   "execution_count": 13,
   "metadata": {},
   "outputs": [
    {
     "data": {
      "text/html": [
       "<div>\n",
       "<style scoped>\n",
       "    .dataframe tbody tr th:only-of-type {\n",
       "        vertical-align: middle;\n",
       "    }\n",
       "\n",
       "    .dataframe tbody tr th {\n",
       "        vertical-align: top;\n",
       "    }\n",
       "\n",
       "    .dataframe thead th {\n",
       "        text-align: right;\n",
       "    }\n",
       "</style>\n",
       "<table border=\"1\" class=\"dataframe\">\n",
       "  <thead>\n",
       "    <tr style=\"text-align: right;\">\n",
       "      <th></th>\n",
       "      <th>ID</th>\n",
       "      <th>TEXT</th>\n",
       "      <th>Sentiment</th>\n",
       "      <th>Topic</th>\n",
       "      <th>Genre</th>\n",
       "    </tr>\n",
       "  </thead>\n",
       "  <tbody>\n",
       "    <tr>\n",
       "      <th>0</th>\n",
       "      <td>0</td>\n",
       "      <td>The reception through this headset is excellent.</td>\n",
       "      <td>POSITIVE</td>\n",
       "      <td>NONE</td>\n",
       "      <td>GENRE_B</td>\n",
       "    </tr>\n",
       "    <tr>\n",
       "      <th>1</th>\n",
       "      <td>1</td>\n",
       "      <td>Hands down my favorite Italian restaurant!</td>\n",
       "      <td>POSITIVE</td>\n",
       "      <td>NONE</td>\n",
       "      <td>GENRE_B</td>\n",
       "    </tr>\n",
       "    <tr>\n",
       "      <th>2</th>\n",
       "      <td>2</td>\n",
       "      <td>The bathrooms are clean and the place itself i...</td>\n",
       "      <td>POSITIVE</td>\n",
       "      <td>NONE</td>\n",
       "      <td>GENRE_B</td>\n",
       "    </tr>\n",
       "    <tr>\n",
       "      <th>3</th>\n",
       "      <td>3</td>\n",
       "      <td>If you haven't gone here GO NOW!</td>\n",
       "      <td>POSITIVE</td>\n",
       "      <td>NONE</td>\n",
       "      <td>GENRE_B</td>\n",
       "    </tr>\n",
       "    <tr>\n",
       "      <th>4</th>\n",
       "      <td>4</td>\n",
       "      <td>Host staff were, for lack of a better word, BI...</td>\n",
       "      <td>NEGATIVE</td>\n",
       "      <td>NONE</td>\n",
       "      <td>GENRE_B</td>\n",
       "    </tr>\n",
       "  </tbody>\n",
       "</table>\n",
       "</div>"
      ],
      "text/plain": [
       "   ID                                               TEXT Sentiment Topic  \\\n",
       "0   0   The reception through this headset is excellent.  POSITIVE  NONE   \n",
       "1   1         Hands down my favorite Italian restaurant!  POSITIVE  NONE   \n",
       "2   2  The bathrooms are clean and the place itself i...  POSITIVE  NONE   \n",
       "3   3                   If you haven't gone here GO NOW!  POSITIVE  NONE   \n",
       "4   4  Host staff were, for lack of a better word, BI...  NEGATIVE  NONE   \n",
       "\n",
       "     Genre  \n",
       "0  GENRE_B  \n",
       "1  GENRE_B  \n",
       "2  GENRE_B  \n",
       "3  GENRE_B  \n",
       "4  GENRE_B  "
      ]
     },
     "execution_count": 13,
     "metadata": {},
     "output_type": "execute_result"
    }
   ],
   "source": [
    "test_df = test_df.rename(columns={\"Context\":\"Topic\"})\n",
    "test_df.head(5)"
   ]
  },
  {
   "cell_type": "code",
   "execution_count": 14,
   "metadata": {},
   "outputs": [
    {
     "name": "stdout",
     "output_type": "stream",
     "text": [
      "<class 'pandas.core.frame.DataFrame'>\n",
      "RangeIndex: 2087 entries, 0 to 2086\n",
      "Data columns (total 5 columns):\n",
      " #   Column     Non-Null Count  Dtype \n",
      "---  ------     --------------  ----- \n",
      " 0   ID         2087 non-null   int64 \n",
      " 1   TEXT       2087 non-null   object\n",
      " 2   Sentiment  2087 non-null   object\n",
      " 3   Topic      2087 non-null   object\n",
      " 4   Genre      2087 non-null   object\n",
      "dtypes: int64(1), object(4)\n",
      "memory usage: 81.6+ KB\n"
     ]
    }
   ],
   "source": [
    "test_df.info()"
   ]
  },
  {
   "cell_type": "code",
   "execution_count": 15,
   "metadata": {},
   "outputs": [],
   "source": [
    "test_df = test_df[test_df.Sentiment != 'NEUTRAL']"
   ]
  },
  {
   "cell_type": "code",
   "execution_count": 16,
   "metadata": {},
   "outputs": [],
   "source": [
    "test_df['TEXT'] = test_df['TEXT'].str.lower()"
   ]
  },
  {
   "cell_type": "code",
   "execution_count": 17,
   "metadata": {},
   "outputs": [
    {
     "data": {
      "text/html": [
       "<div>\n",
       "<style scoped>\n",
       "    .dataframe tbody tr th:only-of-type {\n",
       "        vertical-align: middle;\n",
       "    }\n",
       "\n",
       "    .dataframe tbody tr th {\n",
       "        vertical-align: top;\n",
       "    }\n",
       "\n",
       "    .dataframe thead th {\n",
       "        text-align: right;\n",
       "    }\n",
       "</style>\n",
       "<table border=\"1\" class=\"dataframe\">\n",
       "  <thead>\n",
       "    <tr style=\"text-align: right;\">\n",
       "      <th></th>\n",
       "      <th>ID</th>\n",
       "      <th>TEXT</th>\n",
       "      <th>Sentiment</th>\n",
       "      <th>Topic</th>\n",
       "      <th>Genre</th>\n",
       "    </tr>\n",
       "  </thead>\n",
       "  <tbody>\n",
       "    <tr>\n",
       "      <th>0</th>\n",
       "      <td>0</td>\n",
       "      <td>the reception through this headset is excellent.</td>\n",
       "      <td>POSITIVE</td>\n",
       "      <td>NONE</td>\n",
       "      <td>GENRE_B</td>\n",
       "    </tr>\n",
       "    <tr>\n",
       "      <th>1</th>\n",
       "      <td>1</td>\n",
       "      <td>hands down my favorite italian restaurant!</td>\n",
       "      <td>POSITIVE</td>\n",
       "      <td>NONE</td>\n",
       "      <td>GENRE_B</td>\n",
       "    </tr>\n",
       "    <tr>\n",
       "      <th>2</th>\n",
       "      <td>2</td>\n",
       "      <td>the bathrooms are clean and the place itself i...</td>\n",
       "      <td>POSITIVE</td>\n",
       "      <td>NONE</td>\n",
       "      <td>GENRE_B</td>\n",
       "    </tr>\n",
       "    <tr>\n",
       "      <th>3</th>\n",
       "      <td>3</td>\n",
       "      <td>if you haven't gone here go now!</td>\n",
       "      <td>POSITIVE</td>\n",
       "      <td>NONE</td>\n",
       "      <td>GENRE_B</td>\n",
       "    </tr>\n",
       "    <tr>\n",
       "      <th>4</th>\n",
       "      <td>4</td>\n",
       "      <td>host staff were, for lack of a better word, bi...</td>\n",
       "      <td>NEGATIVE</td>\n",
       "      <td>NONE</td>\n",
       "      <td>GENRE_B</td>\n",
       "    </tr>\n",
       "  </tbody>\n",
       "</table>\n",
       "</div>"
      ],
      "text/plain": [
       "   ID                                               TEXT Sentiment Topic  \\\n",
       "0   0   the reception through this headset is excellent.  POSITIVE  NONE   \n",
       "1   1         hands down my favorite italian restaurant!  POSITIVE  NONE   \n",
       "2   2  the bathrooms are clean and the place itself i...  POSITIVE  NONE   \n",
       "3   3                   if you haven't gone here go now!  POSITIVE  NONE   \n",
       "4   4  host staff were, for lack of a better word, bi...  NEGATIVE  NONE   \n",
       "\n",
       "     Genre  \n",
       "0  GENRE_B  \n",
       "1  GENRE_B  \n",
       "2  GENRE_B  \n",
       "3  GENRE_B  \n",
       "4  GENRE_B  "
      ]
     },
     "execution_count": 17,
     "metadata": {},
     "output_type": "execute_result"
    }
   ],
   "source": [
    "test_df.head(5)"
   ]
  },
  {
   "cell_type": "code",
   "execution_count": 18,
   "metadata": {},
   "outputs": [
    {
     "data": {
      "text/html": [
       "<div>\n",
       "<style scoped>\n",
       "    .dataframe tbody tr th:only-of-type {\n",
       "        vertical-align: middle;\n",
       "    }\n",
       "\n",
       "    .dataframe tbody tr th {\n",
       "        vertical-align: top;\n",
       "    }\n",
       "\n",
       "    .dataframe thead th {\n",
       "        text-align: right;\n",
       "    }\n",
       "</style>\n",
       "<table border=\"1\" class=\"dataframe\">\n",
       "  <thead>\n",
       "    <tr style=\"text-align: right;\">\n",
       "      <th></th>\n",
       "      <th>ID</th>\n",
       "    </tr>\n",
       "  </thead>\n",
       "  <tbody>\n",
       "    <tr>\n",
       "      <th>count</th>\n",
       "      <td>2015.000000</td>\n",
       "    </tr>\n",
       "    <tr>\n",
       "      <th>mean</th>\n",
       "      <td>1039.317122</td>\n",
       "    </tr>\n",
       "    <tr>\n",
       "      <th>std</th>\n",
       "      <td>601.338901</td>\n",
       "    </tr>\n",
       "    <tr>\n",
       "      <th>min</th>\n",
       "      <td>0.000000</td>\n",
       "    </tr>\n",
       "    <tr>\n",
       "      <th>25%</th>\n",
       "      <td>519.500000</td>\n",
       "    </tr>\n",
       "    <tr>\n",
       "      <th>50%</th>\n",
       "      <td>1038.000000</td>\n",
       "    </tr>\n",
       "    <tr>\n",
       "      <th>75%</th>\n",
       "      <td>1557.500000</td>\n",
       "    </tr>\n",
       "    <tr>\n",
       "      <th>max</th>\n",
       "      <td>2086.000000</td>\n",
       "    </tr>\n",
       "  </tbody>\n",
       "</table>\n",
       "</div>"
      ],
      "text/plain": [
       "                ID\n",
       "count  2015.000000\n",
       "mean   1039.317122\n",
       "std     601.338901\n",
       "min       0.000000\n",
       "25%     519.500000\n",
       "50%    1038.000000\n",
       "75%    1557.500000\n",
       "max    2086.000000"
      ]
     },
     "execution_count": 18,
     "metadata": {},
     "output_type": "execute_result"
    }
   ],
   "source": [
    "test_df.describe()"
   ]
  },
  {
   "cell_type": "code",
   "execution_count": 19,
   "metadata": {},
   "outputs": [
    {
     "data": {
      "text/plain": [
       "NEGATIVE    1013\n",
       "POSITIVE    1002\n",
       "Name: Sentiment, dtype: int64"
      ]
     },
     "execution_count": 19,
     "metadata": {},
     "output_type": "execute_result"
    }
   ],
   "source": [
    "test_df['Sentiment'].value_counts()"
   ]
  },
  {
   "cell_type": "code",
   "execution_count": 20,
   "metadata": {},
   "outputs": [
    {
     "data": {
      "text/plain": [
       "<AxesSubplot:>"
      ]
     },
     "execution_count": 20,
     "metadata": {},
     "output_type": "execute_result"
    },
    {
     "data": {
      "image/png": "[encoded data removed]",
      "text/plain": [
       "<Figure size 432x288 with 1 Axes>"
      ]
     },
     "metadata": {
      "needs_background": "light"
     },
     "output_type": "display_data"
    }
   ],
   "source": [
    "test_df['Sentiment'].value_counts().plot(kind = 'bar')"
   ]
  },
  {
   "cell_type": "code",
   "execution_count": 21,
   "metadata": {},
   "outputs": [
    {
     "data": {
      "text/plain": [
       "<seaborn.axisgrid.FacetGrid at 0x7fb2a3145070>"
      ]
     },
     "execution_count": 21,
     "metadata": {},
     "output_type": "execute_result"
    },
    {
     "data": {
      "image/png": "[encoded data removed]",
      "text/plain": [
       "<Figure size 360x360 with 1 Axes>"
      ]
     },
     "metadata": {
      "needs_background": "light"
     },
     "output_type": "display_data"
    }
   ],
   "source": [
    "sns.displot(train_df,x='Sentiment',bins=10,binwidth=3)"
   ]
  },
  {
   "cell_type": "code",
   "execution_count": 22,
   "metadata": {},
   "outputs": [],
   "source": [
    "wordcloud = WordCloud(max_font_size=50, max_words=10000, background_color=\"black\").generate(' '.join(train_df['TEXT']))"
   ]
  },
  {
   "cell_type": "code",
   "execution_count": 23,
   "metadata": {},
   "outputs": [
    {
     "data": {
      "text/plain": [
       "<function matplotlib.pyplot.show(close=None, block=None)>"
      ]
     },
     "execution_count": 23,
     "metadata": {},
     "output_type": "execute_result"
    },
    {
     "data": {
      "image/png": "[encoded data removed]",
      "text/plain": [
       "<Figure size 432x288 with 1 Axes>"
      ]
     },
     "metadata": {
      "needs_background": "light"
     },
     "output_type": "display_data"
    }
   ],
   "source": [
    "plt.imshow(wordcloud,interpolation='bilinear')\n",
    "plt.axis(\"off\")\n",
    "plt.show"
   ]
  },
  {
   "cell_type": "code",
   "execution_count": 24,
   "metadata": {},
   "outputs": [
    {
     "name": "stdout",
     "output_type": "stream",
     "text": [
      "8496\n"
     ]
    }
   ],
   "source": [
    "result = set()\n",
    "train_df['TEXT'].str.split().apply(result.update)\n",
    "print(len(result))"
   ]
  },
  {
   "cell_type": "code",
   "execution_count": 25,
   "metadata": {},
   "outputs": [],
   "source": [
    "## TEXTPREPROCESSING"
   ]
  },
  {
   "cell_type": "code",
   "execution_count": 26,
   "metadata": {},
   "outputs": [
    {
     "data": {
      "text/plain": [
       "Index(['ID', 'TEXT', 'Sentiment', 'Topic', 'Genre'], dtype='object')"
      ]
     },
     "execution_count": 26,
     "metadata": {},
     "output_type": "execute_result"
    }
   ],
   "source": [
    "train_df.columns"
   ]
  },
  {
   "cell_type": "code",
   "execution_count": 27,
   "metadata": {},
   "outputs": [],
   "source": [
    "def clean_TEXT(dataframe):\n",
    "    dataframe['TEXT'] = dataframe.TEXT.fillna('none')\n",
    "    dataframe['Sentiment'] = dataframe.Sentiment.fillna('none')\n",
    "    #dataframe['Topic'] = dataframe.Topic.fillna('none')\n",
    "    dataframe['Genre'] = dataframe.Genre.fillna('none')\n",
    "       \n",
    "    columns = list(dataframe.columns)\n",
    "    \n",
    "    for column in columns:\n",
    "        if column != 'ID':\n",
    "            dataframe[column] = dataframe[column].str.replace(r'\\W', ' ').str.replace(r'\\s$','')\n",
    "            \n",
    "    \n",
    "    for column in columns:\n",
    "        dataframe = remove_stop_words(dataframe,column)\n",
    "    \n",
    "    for column in columns:\n",
    "        dataframe = remove_special_characters(dataframe,column)\n",
    "    \n",
    "    return dataframe\n",
    "\n",
    "        \n",
    "def remove_stop_words(data_frame, column_name):\n",
    "    if column_name != 'ID':\n",
    "        data_frame[column_name] = data_frame[column_name].apply(lambda x: \" \".join([i for i in x.lower().split() if i not in STOPWORDS]))\n",
    "    return data_frame\n",
    "\n",
    "def remove_special_characters(data_frame, columns):\n",
    "    data_frame.columns = data_frame.columns.str.replace('[!,@,#,$,%,^,&,*,\\\",:,;,.]','')\n",
    "    return data_frame"
   ]
  },
  {
   "cell_type": "code",
   "execution_count": 28,
   "metadata": {},
   "outputs": [
    {
     "data": {
      "text/html": [
       "<div>\n",
       "<style scoped>\n",
       "    .dataframe tbody tr th:only-of-type {\n",
       "        vertical-align: middle;\n",
       "    }\n",
       "\n",
       "    .dataframe tbody tr th {\n",
       "        vertical-align: top;\n",
       "    }\n",
       "\n",
       "    .dataframe thead th {\n",
       "        text-align: right;\n",
       "    }\n",
       "</style>\n",
       "<table border=\"1\" class=\"dataframe\">\n",
       "  <thead>\n",
       "    <tr style=\"text-align: right;\">\n",
       "      <th></th>\n",
       "      <th>ID</th>\n",
       "      <th>TEXT</th>\n",
       "      <th>Sentiment</th>\n",
       "      <th>Topic</th>\n",
       "      <th>Genre</th>\n",
       "    </tr>\n",
       "  </thead>\n",
       "  <tbody>\n",
       "    <tr>\n",
       "      <th>0</th>\n",
       "      <td>0</td>\n",
       "      <td>definitely state allow cell phone usage driving</td>\n",
       "      <td>positive</td>\n",
       "      <td></td>\n",
       "      <td>genre_b</td>\n",
       "    </tr>\n",
       "    <tr>\n",
       "      <th>1</th>\n",
       "      <td>1</td>\n",
       "      <td>s great place highly recommend</td>\n",
       "      <td>positive</td>\n",
       "      <td></td>\n",
       "      <td>genre_b</td>\n",
       "    </tr>\n",
       "    <tr>\n",
       "      <th>3</th>\n",
       "      <td>3</td>\n",
       "      <td>tell having phone electricity gas cut couldn t...</td>\n",
       "      <td>negative</td>\n",
       "      <td>money_issue</td>\n",
       "      <td>genre_a</td>\n",
       "    </tr>\n",
       "    <tr>\n",
       "      <th>4</th>\n",
       "      <td>4</td>\n",
       "      <td>steaks 100 recommended</td>\n",
       "      <td>positive</td>\n",
       "      <td></td>\n",
       "      <td>genre_b</td>\n",
       "    </tr>\n",
       "    <tr>\n",
       "      <th>5</th>\n",
       "      <td>5</td>\n",
       "      <td>billed thousands dollars said feeling shock un...</td>\n",
       "      <td>negative</td>\n",
       "      <td>money_issue</td>\n",
       "      <td>genre_a</td>\n",
       "    </tr>\n",
       "  </tbody>\n",
       "</table>\n",
       "</div>"
      ],
      "text/plain": [
       "   ID                                               TEXT Sentiment  \\\n",
       "0   0    definitely state allow cell phone usage driving  positive   \n",
       "1   1                     s great place highly recommend  positive   \n",
       "3   3  tell having phone electricity gas cut couldn t...  negative   \n",
       "4   4                             steaks 100 recommended  positive   \n",
       "5   5  billed thousands dollars said feeling shock un...  negative   \n",
       "\n",
       "         Topic    Genre  \n",
       "0               genre_b  \n",
       "1               genre_b  \n",
       "3  money_issue  genre_a  \n",
       "4               genre_b  \n",
       "5  money_issue  genre_a  "
      ]
     },
     "execution_count": 28,
     "metadata": {},
     "output_type": "execute_result"
    }
   ],
   "source": [
    "train_df = clean_TEXT(train_df)\n",
    "\n",
    "train_df.head(5)"
   ]
  },
  {
   "cell_type": "code",
   "execution_count": 29,
   "metadata": {},
   "outputs": [],
   "source": [
    "from sklearn.feature_extraction.text import CountVectorizer\n",
    "from nltk.tokenize import RegexpTokenizer\n",
    "from sklearn.feature_selection import SelectKBest,chi2\n",
    "\n",
    "token = RegexpTokenizer(r'[a-zA-Z0-9]+')\n",
    "\n",
    "cv = CountVectorizer(stop_words='english',ngram_range=(1,1),tokenizer=token.tokenize)\n",
    "\n",
    "text_counts = cv.fit_transform(train_df['TEXT'])\n",
    "\n"
   ]
  },
  {
   "cell_type": "code",
   "execution_count": 30,
   "metadata": {},
   "outputs": [],
   "source": [
    "from sklearn.model_selection import train_test_split\n",
    "\n",
    "X_train, X_test, y_train, y_test = train_test_split(text_counts,train_df['Sentiment'], test_size=0.25, random_state=5)\n",
    "#print(X_train,y_train)"
   ]
  },
  {
   "cell_type": "code",
   "execution_count": 31,
   "metadata": {},
   "outputs": [
    {
     "data": {
      "text/plain": [
       "MultinomialNB(alpha=1)"
      ]
     },
     "execution_count": 31,
     "metadata": {},
     "output_type": "execute_result"
    }
   ],
   "source": [
    "from sklearn.naive_bayes import MultinomialNB\n",
    "\n",
    "mnb = MultinomialNB(alpha=1, class_prior=None, fit_prior=True)\n",
    "mnb.fit(X_train,y_train)"
   ]
  },
  {
   "cell_type": "code",
   "execution_count": 32,
   "metadata": {},
   "outputs": [],
   "source": [
    "#print(X_test,y_test)"
   ]
  },
  {
   "cell_type": "code",
   "execution_count": 33,
   "metadata": {},
   "outputs": [
    {
     "name": "stdout",
     "output_type": "stream",
     "text": [
      "0.7440677966101695\n"
     ]
    }
   ],
   "source": [
    "from sklearn import metrics\n",
    "\n",
    "predictions = mnb.predict(X_test)\n",
    "accuracy = metrics.accuracy_score(predictions, y_test)\n",
    "\n",
    "print(accuracy)"
   ]
  },
  {
   "cell_type": "code",
   "execution_count": 34,
   "metadata": {},
   "outputs": [
    {
     "data": {
      "text/html": [
       "<div>\n",
       "<style scoped>\n",
       "    .dataframe tbody tr th:only-of-type {\n",
       "        vertical-align: middle;\n",
       "    }\n",
       "\n",
       "    .dataframe tbody tr th {\n",
       "        vertical-align: top;\n",
       "    }\n",
       "\n",
       "    .dataframe thead th {\n",
       "        text-align: right;\n",
       "    }\n",
       "</style>\n",
       "<table border=\"1\" class=\"dataframe\">\n",
       "  <thead>\n",
       "    <tr style=\"text-align: right;\">\n",
       "      <th></th>\n",
       "      <th>ID</th>\n",
       "      <th>TEXT</th>\n",
       "      <th>Sentiment</th>\n",
       "      <th>Topic</th>\n",
       "      <th>Genre</th>\n",
       "    </tr>\n",
       "  </thead>\n",
       "  <tbody>\n",
       "    <tr>\n",
       "      <th>0</th>\n",
       "      <td>0</td>\n",
       "      <td>reception headset excellent</td>\n",
       "      <td>positive</td>\n",
       "      <td></td>\n",
       "      <td>genre_b</td>\n",
       "    </tr>\n",
       "    <tr>\n",
       "      <th>1</th>\n",
       "      <td>1</td>\n",
       "      <td>hands favorite italian restaurant</td>\n",
       "      <td>positive</td>\n",
       "      <td></td>\n",
       "      <td>genre_b</td>\n",
       "    </tr>\n",
       "    <tr>\n",
       "      <th>2</th>\n",
       "      <td>2</td>\n",
       "      <td>bathrooms clean place decorated</td>\n",
       "      <td>positive</td>\n",
       "      <td></td>\n",
       "      <td>genre_b</td>\n",
       "    </tr>\n",
       "    <tr>\n",
       "      <th>3</th>\n",
       "      <td>3</td>\n",
       "      <td>haven t gone</td>\n",
       "      <td>positive</td>\n",
       "      <td></td>\n",
       "      <td>genre_b</td>\n",
       "    </tr>\n",
       "    <tr>\n",
       "      <th>4</th>\n",
       "      <td>4</td>\n",
       "      <td>host staff lack better word bitches</td>\n",
       "      <td>negative</td>\n",
       "      <td></td>\n",
       "      <td>genre_b</td>\n",
       "    </tr>\n",
       "  </tbody>\n",
       "</table>\n",
       "</div>"
      ],
      "text/plain": [
       "   ID                                 TEXT Sentiment Topic    Genre\n",
       "0   0          reception headset excellent  positive        genre_b\n",
       "1   1    hands favorite italian restaurant  positive        genre_b\n",
       "2   2      bathrooms clean place decorated  positive        genre_b\n",
       "3   3                         haven t gone  positive        genre_b\n",
       "4   4  host staff lack better word bitches  negative        genre_b"
      ]
     },
     "execution_count": 34,
     "metadata": {},
     "output_type": "execute_result"
    }
   ],
   "source": [
    "## TEST DATASET\n",
    "\n",
    "test_df = clean_TEXT(test_df)\n",
    "test_df.head(5)\n",
    "\n"
   ]
  },
  {
   "cell_type": "code",
   "execution_count": 35,
   "metadata": {},
   "outputs": [
    {
     "name": "stdout",
     "output_type": "stream",
     "text": [
      "(2015, 6090) (2359, 6090)\n",
      "<class 'scipy.sparse.csr.csr_matrix'>\n"
     ]
    }
   ],
   "source": [
    "test_token = RegexpTokenizer(r'[a-zA-Z0-9]+')\n",
    "\n",
    "test_cv = CountVectorizer(stop_words='english',ngram_range=(1,1),tokenizer=test_token.tokenize,vocabulary=cv.vocabulary_)\n",
    "\n",
    "test_text_counts = test_cv.transform(test_df['TEXT'])\n",
    "\n",
    "print(test_text_counts.shape, text_counts.shape)\n",
    "print(type(test_text_counts))"
   ]
  },
  {
   "cell_type": "code",
   "execution_count": 36,
   "metadata": {},
   "outputs": [
    {
     "name": "stdout",
     "output_type": "stream",
     "text": [
      "(2015,)\n"
     ]
    }
   ],
   "source": [
    "test_X_train, test_X_test, test_y_train, test_y_test = train_test_split(test_text_counts,test_df['Sentiment'], test_size=0.25, random_state=5)\n",
    "print(test_df['Sentiment'].shape)"
   ]
  },
  {
   "cell_type": "code",
   "execution_count": 37,
   "metadata": {},
   "outputs": [
    {
     "name": "stdout",
     "output_type": "stream",
     "text": [
      "0.7607940446650124\n"
     ]
    }
   ],
   "source": [
    "\n",
    "# mnb = MultinomialNB(alpha=1, class_prior=None, fit_prior=True)\n",
    "# mnb.fit(test_X_train,test_y_train)\n",
    "# predictions = mnb.predict(test_df['TEXT'])\n",
    "predictions = mnb.predict(test_text_counts)\n",
    "accuracy = metrics.accuracy_score(predictions,test_df['Sentiment'])\n",
    "\n",
    "print(accuracy)"
   ]
  },
  {
   "cell_type": "code",
   "execution_count": 38,
   "metadata": {},
   "outputs": [],
   "source": [
    "## CROSS VALIDATION"
   ]
  },
  {
   "cell_type": "code",
   "execution_count": 39,
   "metadata": {},
   "outputs": [
    {
     "name": "stdout",
     "output_type": "stream",
     "text": [
      "[0.78248588 0.76836158 0.7740113  0.76271186 0.77053824]\n"
     ]
    }
   ],
   "source": [
    "from sklearn.model_selection import cross_val_score,ShuffleSplit\n",
    "\n",
    "mnb_cross_val = MultinomialNB(alpha=1, class_prior=None, fit_prior=True)\n",
    "scores = cross_val_score(mnb_cross_val,X_train,y_train, cv=5)\n",
    "print(scores)\n"
   ]
  },
  {
   "cell_type": "code",
   "execution_count": 40,
   "metadata": {},
   "outputs": [
    {
     "name": "stdout",
     "output_type": "stream",
     "text": [
      "0.7716217730189977 0.0065563391783955835\n"
     ]
    }
   ],
   "source": [
    "print(scores.mean(), scores.std())"
   ]
  },
  {
   "cell_type": "code",
   "execution_count": 41,
   "metadata": {},
   "outputs": [
    {
     "data": {
      "text/plain": [
       "array([0.73814898, 0.73137698, 0.75620767, 0.74717833, 0.77426637])"
      ]
     },
     "execution_count": 41,
     "metadata": {},
     "output_type": "execute_result"
    }
   ],
   "source": [
    "## SHUFFLE SPLIT\n",
    "\n",
    "shuffle = ShuffleSplit(n_splits=5,test_size=0.25,random_state=0)\n",
    "cross_val_score(mnb_cross_val,X_train,y_train,cv=shuffle)"
   ]
  },
  {
   "cell_type": "code",
   "execution_count": null,
   "metadata": {},
   "outputs": [],
   "source": []
  },
  {
   "cell_type": "code",
   "execution_count": null,
   "metadata": {},
   "outputs": [],
   "source": []
  },
  {
   "cell_type": "code",
   "execution_count": null,
   "metadata": {},
   "outputs": [],
   "source": []
  }
 ],
 "metadata": {
  "kernelspec": {
   "display_name": "Python 3",
   "language": "python",
   "name": "python3"
  },
  "language_info": {
   "codemirror_mode": {
    "name": "ipython",
    "version": 3
   },
   "file_extension": ".py",
   "mimetype": "text/x-python",
   "name": "python",
   "nbconvert_exporter": "python",
   "pygments_lexer": "ipython3",
   "version": "3.8.5"
  }
 },
 "nbformat": 4,
 "nbformat_minor": 4
}
